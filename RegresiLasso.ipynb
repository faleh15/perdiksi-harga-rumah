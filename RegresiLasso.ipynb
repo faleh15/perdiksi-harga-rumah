{
  "nbformat": 4,
  "nbformat_minor": 0,
  "metadata": {
    "colab": {
      "provenance": []
    },
    "kernelspec": {
      "name": "python3",
      "display_name": "Python 3"
    },
    "language_info": {
      "name": "python"
    }
  },
  "cells": [
    {
      "cell_type": "code",
      "execution_count": 16,
      "metadata": {
        "colab": {
          "base_uri": "https://localhost:8080/"
        },
        "id": "L-0EXgkysD9j",
        "outputId": "4f50c008-f2b1-45f1-df66-06d15420c3d0"
      },
      "outputs": [
        {
          "output_type": "stream",
          "name": "stdout",
          "text": [
            "MSE: 10.74\n",
            "R-squared: 0.77\n",
            "Masukkan luas tanah (dalam meter persegi): 180\n",
            "Masukkan luas bangunan (dalam meter persegi): 137\n",
            "Masukkan jumlah kamar tidur: 4\n",
            "Masukkan jumlah kamar mandi: 3\n",
            "Masukkan jumlah garasi: 2\n",
            "Prediksi harga rumah: 4.26 miliar\n"
          ]
        },
        {
          "output_type": "stream",
          "name": "stderr",
          "text": [
            "/usr/local/lib/python3.10/dist-packages/sklearn/base.py:439: UserWarning: X does not have valid feature names, but StandardScaler was fitted with feature names\n",
            "  warnings.warn(\n"
          ]
        }
      ],
      "source": [
        "import pandas as pd\n",
        "from sklearn.linear_model import Lasso\n",
        "from sklearn.model_selection import train_test_split, GridSearchCV\n",
        "from sklearn.metrics import mean_squared_error, r2_score\n",
        "from sklearn.preprocessing import MinMaxScaler\n",
        "\n",
        "# Load dataset\n",
        "data = pd.read_excel(\"datasrumah.xlsx\")\n",
        "\n",
        "# Hapus kolom 'house_name'\n",
        "data = data.drop(['house_name'], axis=1)\n",
        "\n",
        "# Ubah skala price menjadi miliar\n",
        "data['price'] = data['price'] / 1000000000\n",
        "\n",
        "# Pisahkan fitur dari label\n",
        "X = data[['land_area', 'building_area', 'bedroom_count', 'bathroom_count', 'number_of_garages']]\n",
        "y = data['price']\n",
        "\n",
        "# Standardisasi fitur\n",
        "from sklearn.preprocessing import StandardScaler\n",
        "scaler = StandardScaler()\n",
        "X_scaled = scaler.fit_transform(X)\n",
        "\n",
        "# Bagi data menjadi train dan test\n",
        "X_train, X_test, y_train, y_test = train_test_split(X_scaled, y, test_size=0.2, random_state=42)\n",
        "\n",
        "# Buat objek regresi Lasso\n",
        "lasso = Lasso()\n",
        "\n",
        "# Tentukan parameter grid untuk tuning\n",
        "param_grid = {'alpha': [0.001, 0.01, 0.1, 1, 10, 100]}\n",
        "\n",
        "# Lakukan tuning hyperparameter menggunakan GridSearchCV\n",
        "grid_search = GridSearchCV(lasso, param_grid, scoring='r2', cv=5)\n",
        "grid_search.fit(X_train, y_train)\n",
        "\n",
        "# Ambil parameter terbaik\n",
        "best_lasso = grid_search.best_estimator_\n",
        "\n",
        "# Latih model dengan parameter terbaik\n",
        "best_lasso.fit(X_train, y_train)\n",
        "\n",
        "# Evaluasi model dengan data testing\n",
        "y_pred = best_lasso.predict(X_test)\n",
        "mse = mean_squared_error(y_test, y_pred)\n",
        "r2 = r2_score(y_test, y_pred)\n",
        "print(f\"MSE: {mse:.2f}\")\n",
        "print(f\"R-squared: {r2:.2f}\")\n",
        "\n",
        "# Meminta input dari user\n",
        "land_area = float(input(\"Masukkan luas tanah (dalam meter persegi): \"))\n",
        "building_area = float(input(\"Masukkan luas bangunan (dalam meter persegi): \"))\n",
        "bedroom_count = int(input(\"Masukkan jumlah kamar tidur: \"))\n",
        "bathroom_count = int(input(\"Masukkan jumlah kamar mandi: \"))\n",
        "number_of_garages = int(input(\"Masukkan jumlah garasi: \"))\n",
        "\n",
        "# Lakukan prediksi harga rumah\n",
        "input_data = scaler.transform([[land_area, building_area, bedroom_count, bathroom_count, number_of_garages]])\n",
        "prediksi = best_lasso.predict(input_data)\n",
        "print(f\"Prediksi harga rumah: {prediksi[0]:.2f} miliar\")"
      ]
    }
  ]
}